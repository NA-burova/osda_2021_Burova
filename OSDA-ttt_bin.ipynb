{
 "cells": [
  {
   "cell_type": "code",
   "execution_count": 1,
   "metadata": {},
   "outputs": [],
   "source": [
    "import pandas as pd, numpy as np"
   ]
  },
  {
   "cell_type": "code",
   "execution_count": 2,
   "metadata": {},
   "outputs": [
    {
     "data": {
      "text/html": [
       "<div>\n",
       "<style scoped>\n",
       "    .dataframe tbody tr th:only-of-type {\n",
       "        vertical-align: middle;\n",
       "    }\n",
       "\n",
       "    .dataframe tbody tr th {\n",
       "        vertical-align: top;\n",
       "    }\n",
       "\n",
       "    .dataframe thead th {\n",
       "        text-align: right;\n",
       "    }\n",
       "</style>\n",
       "<table border=\"1\" class=\"dataframe\">\n",
       "  <thead>\n",
       "    <tr style=\"text-align: right;\">\n",
       "      <th></th>\n",
       "      <th>x</th>\n",
       "      <th>x.1</th>\n",
       "      <th>x.2</th>\n",
       "      <th>x.3</th>\n",
       "      <th>o</th>\n",
       "      <th>o.1</th>\n",
       "      <th>x.4</th>\n",
       "      <th>o.2</th>\n",
       "      <th>o.3</th>\n",
       "      <th>positive</th>\n",
       "    </tr>\n",
       "  </thead>\n",
       "  <tbody>\n",
       "    <tr>\n",
       "      <th>0</th>\n",
       "      <td>x</td>\n",
       "      <td>x</td>\n",
       "      <td>x</td>\n",
       "      <td>x</td>\n",
       "      <td>o</td>\n",
       "      <td>o</td>\n",
       "      <td>o</td>\n",
       "      <td>x</td>\n",
       "      <td>o</td>\n",
       "      <td>positive</td>\n",
       "    </tr>\n",
       "    <tr>\n",
       "      <th>1</th>\n",
       "      <td>x</td>\n",
       "      <td>x</td>\n",
       "      <td>x</td>\n",
       "      <td>x</td>\n",
       "      <td>o</td>\n",
       "      <td>o</td>\n",
       "      <td>o</td>\n",
       "      <td>o</td>\n",
       "      <td>x</td>\n",
       "      <td>positive</td>\n",
       "    </tr>\n",
       "    <tr>\n",
       "      <th>2</th>\n",
       "      <td>x</td>\n",
       "      <td>x</td>\n",
       "      <td>x</td>\n",
       "      <td>x</td>\n",
       "      <td>o</td>\n",
       "      <td>o</td>\n",
       "      <td>o</td>\n",
       "      <td>b</td>\n",
       "      <td>b</td>\n",
       "      <td>positive</td>\n",
       "    </tr>\n",
       "    <tr>\n",
       "      <th>3</th>\n",
       "      <td>x</td>\n",
       "      <td>x</td>\n",
       "      <td>x</td>\n",
       "      <td>x</td>\n",
       "      <td>o</td>\n",
       "      <td>o</td>\n",
       "      <td>b</td>\n",
       "      <td>o</td>\n",
       "      <td>b</td>\n",
       "      <td>positive</td>\n",
       "    </tr>\n",
       "    <tr>\n",
       "      <th>4</th>\n",
       "      <td>x</td>\n",
       "      <td>x</td>\n",
       "      <td>x</td>\n",
       "      <td>x</td>\n",
       "      <td>o</td>\n",
       "      <td>o</td>\n",
       "      <td>b</td>\n",
       "      <td>b</td>\n",
       "      <td>o</td>\n",
       "      <td>positive</td>\n",
       "    </tr>\n",
       "    <tr>\n",
       "      <th>...</th>\n",
       "      <td>...</td>\n",
       "      <td>...</td>\n",
       "      <td>...</td>\n",
       "      <td>...</td>\n",
       "      <td>...</td>\n",
       "      <td>...</td>\n",
       "      <td>...</td>\n",
       "      <td>...</td>\n",
       "      <td>...</td>\n",
       "      <td>...</td>\n",
       "    </tr>\n",
       "    <tr>\n",
       "      <th>952</th>\n",
       "      <td>o</td>\n",
       "      <td>x</td>\n",
       "      <td>x</td>\n",
       "      <td>x</td>\n",
       "      <td>o</td>\n",
       "      <td>o</td>\n",
       "      <td>o</td>\n",
       "      <td>x</td>\n",
       "      <td>x</td>\n",
       "      <td>negative</td>\n",
       "    </tr>\n",
       "    <tr>\n",
       "      <th>953</th>\n",
       "      <td>o</td>\n",
       "      <td>x</td>\n",
       "      <td>o</td>\n",
       "      <td>x</td>\n",
       "      <td>x</td>\n",
       "      <td>o</td>\n",
       "      <td>x</td>\n",
       "      <td>o</td>\n",
       "      <td>x</td>\n",
       "      <td>negative</td>\n",
       "    </tr>\n",
       "    <tr>\n",
       "      <th>954</th>\n",
       "      <td>o</td>\n",
       "      <td>x</td>\n",
       "      <td>o</td>\n",
       "      <td>x</td>\n",
       "      <td>o</td>\n",
       "      <td>x</td>\n",
       "      <td>x</td>\n",
       "      <td>o</td>\n",
       "      <td>x</td>\n",
       "      <td>negative</td>\n",
       "    </tr>\n",
       "    <tr>\n",
       "      <th>955</th>\n",
       "      <td>o</td>\n",
       "      <td>x</td>\n",
       "      <td>o</td>\n",
       "      <td>o</td>\n",
       "      <td>x</td>\n",
       "      <td>x</td>\n",
       "      <td>x</td>\n",
       "      <td>o</td>\n",
       "      <td>x</td>\n",
       "      <td>negative</td>\n",
       "    </tr>\n",
       "    <tr>\n",
       "      <th>956</th>\n",
       "      <td>o</td>\n",
       "      <td>o</td>\n",
       "      <td>x</td>\n",
       "      <td>x</td>\n",
       "      <td>x</td>\n",
       "      <td>o</td>\n",
       "      <td>o</td>\n",
       "      <td>x</td>\n",
       "      <td>x</td>\n",
       "      <td>negative</td>\n",
       "    </tr>\n",
       "  </tbody>\n",
       "</table>\n",
       "<p>957 rows × 10 columns</p>\n",
       "</div>"
      ],
      "text/plain": [
       "     x x.1 x.2 x.3  o o.1 x.4 o.2 o.3  positive\n",
       "0    x   x   x   x  o   o   o   x   o  positive\n",
       "1    x   x   x   x  o   o   o   o   x  positive\n",
       "2    x   x   x   x  o   o   o   b   b  positive\n",
       "3    x   x   x   x  o   o   b   o   b  positive\n",
       "4    x   x   x   x  o   o   b   b   o  positive\n",
       "..  ..  ..  ..  .. ..  ..  ..  ..  ..       ...\n",
       "952  o   x   x   x  o   o   o   x   x  negative\n",
       "953  o   x   o   x  x   o   x   o   x  negative\n",
       "954  o   x   o   x  o   x   x   o   x  negative\n",
       "955  o   x   o   o  x   x   x   o   x  negative\n",
       "956  o   o   x   x  x   o   o   x   x  negative\n",
       "\n",
       "[957 rows x 10 columns]"
      ]
     },
     "execution_count": 2,
     "metadata": {},
     "output_type": "execute_result"
    }
   ],
   "source": [
    "data=pd.read_csv(\"tic-tac-toe.data\")\n",
    "data"
   ]
  },
  {
   "cell_type": "code",
   "execution_count": 3,
   "metadata": {},
   "outputs": [
    {
     "data": {
      "text/plain": [
       "(957, 10)"
      ]
     },
     "execution_count": 3,
     "metadata": {},
     "output_type": "execute_result"
    }
   ],
   "source": [
    "data.shape"
   ]
  },
  {
   "cell_type": "code",
   "execution_count": 4,
   "metadata": {},
   "outputs": [],
   "source": [
    "def binarize(data):\n",
    "    bind=pd.DataFrame()\n",
    "    for i in data:\n",
    "        if len(np.unique(data[i]))==2:\n",
    "            bind[i]=np.zeros(data.shape[0])\n",
    "            bind.loc[data[i]==np.unique(data[i])[1], [i]]=1\n",
    "        elif len(np.unique(data[i]))>2:\n",
    "#             for j in np.unique(data[i]):\n",
    "#                 bind[i+\"_\"+j]=np.zeros(data.shape[0])\n",
    "# #                 bind.loc[data[i]==j, [i+\"_\"+j]]=1\n",
    "            bind[i+'x']=np.zeros(data.shape[0])\n",
    "            bind.loc[data[i]=='x', [i+'x']]=1\n",
    "#             bind[i]=data[i]\n",
    "    return bind"
   ]
  },
  {
   "cell_type": "code",
   "execution_count": 5,
   "metadata": {},
   "outputs": [],
   "source": [
    "beta=binarize(data)"
   ]
  },
  {
   "cell_type": "code",
   "execution_count": 6,
   "metadata": {},
   "outputs": [
    {
     "data": {
      "text/html": [
       "<div>\n",
       "<style scoped>\n",
       "    .dataframe tbody tr th:only-of-type {\n",
       "        vertical-align: middle;\n",
       "    }\n",
       "\n",
       "    .dataframe tbody tr th {\n",
       "        vertical-align: top;\n",
       "    }\n",
       "\n",
       "    .dataframe thead th {\n",
       "        text-align: right;\n",
       "    }\n",
       "</style>\n",
       "<table border=\"1\" class=\"dataframe\">\n",
       "  <thead>\n",
       "    <tr style=\"text-align: right;\">\n",
       "      <th></th>\n",
       "      <th>xx</th>\n",
       "      <th>x.1x</th>\n",
       "      <th>x.2x</th>\n",
       "      <th>x.3x</th>\n",
       "      <th>ox</th>\n",
       "      <th>o.1x</th>\n",
       "      <th>x.4x</th>\n",
       "      <th>o.2x</th>\n",
       "      <th>o.3x</th>\n",
       "      <th>positive</th>\n",
       "    </tr>\n",
       "  </thead>\n",
       "  <tbody>\n",
       "    <tr>\n",
       "      <th>0</th>\n",
       "      <td>1.0</td>\n",
       "      <td>1.0</td>\n",
       "      <td>1.0</td>\n",
       "      <td>1.0</td>\n",
       "      <td>0.0</td>\n",
       "      <td>0.0</td>\n",
       "      <td>0.0</td>\n",
       "      <td>1.0</td>\n",
       "      <td>0.0</td>\n",
       "      <td>1.0</td>\n",
       "    </tr>\n",
       "    <tr>\n",
       "      <th>1</th>\n",
       "      <td>1.0</td>\n",
       "      <td>1.0</td>\n",
       "      <td>1.0</td>\n",
       "      <td>1.0</td>\n",
       "      <td>0.0</td>\n",
       "      <td>0.0</td>\n",
       "      <td>0.0</td>\n",
       "      <td>0.0</td>\n",
       "      <td>1.0</td>\n",
       "      <td>1.0</td>\n",
       "    </tr>\n",
       "    <tr>\n",
       "      <th>2</th>\n",
       "      <td>1.0</td>\n",
       "      <td>1.0</td>\n",
       "      <td>1.0</td>\n",
       "      <td>1.0</td>\n",
       "      <td>0.0</td>\n",
       "      <td>0.0</td>\n",
       "      <td>0.0</td>\n",
       "      <td>0.0</td>\n",
       "      <td>0.0</td>\n",
       "      <td>1.0</td>\n",
       "    </tr>\n",
       "    <tr>\n",
       "      <th>3</th>\n",
       "      <td>1.0</td>\n",
       "      <td>1.0</td>\n",
       "      <td>1.0</td>\n",
       "      <td>1.0</td>\n",
       "      <td>0.0</td>\n",
       "      <td>0.0</td>\n",
       "      <td>0.0</td>\n",
       "      <td>0.0</td>\n",
       "      <td>0.0</td>\n",
       "      <td>1.0</td>\n",
       "    </tr>\n",
       "    <tr>\n",
       "      <th>4</th>\n",
       "      <td>1.0</td>\n",
       "      <td>1.0</td>\n",
       "      <td>1.0</td>\n",
       "      <td>1.0</td>\n",
       "      <td>0.0</td>\n",
       "      <td>0.0</td>\n",
       "      <td>0.0</td>\n",
       "      <td>0.0</td>\n",
       "      <td>0.0</td>\n",
       "      <td>1.0</td>\n",
       "    </tr>\n",
       "    <tr>\n",
       "      <th>...</th>\n",
       "      <td>...</td>\n",
       "      <td>...</td>\n",
       "      <td>...</td>\n",
       "      <td>...</td>\n",
       "      <td>...</td>\n",
       "      <td>...</td>\n",
       "      <td>...</td>\n",
       "      <td>...</td>\n",
       "      <td>...</td>\n",
       "      <td>...</td>\n",
       "    </tr>\n",
       "    <tr>\n",
       "      <th>952</th>\n",
       "      <td>0.0</td>\n",
       "      <td>1.0</td>\n",
       "      <td>1.0</td>\n",
       "      <td>1.0</td>\n",
       "      <td>0.0</td>\n",
       "      <td>0.0</td>\n",
       "      <td>0.0</td>\n",
       "      <td>1.0</td>\n",
       "      <td>1.0</td>\n",
       "      <td>0.0</td>\n",
       "    </tr>\n",
       "    <tr>\n",
       "      <th>953</th>\n",
       "      <td>0.0</td>\n",
       "      <td>1.0</td>\n",
       "      <td>0.0</td>\n",
       "      <td>1.0</td>\n",
       "      <td>1.0</td>\n",
       "      <td>0.0</td>\n",
       "      <td>1.0</td>\n",
       "      <td>0.0</td>\n",
       "      <td>1.0</td>\n",
       "      <td>0.0</td>\n",
       "    </tr>\n",
       "    <tr>\n",
       "      <th>954</th>\n",
       "      <td>0.0</td>\n",
       "      <td>1.0</td>\n",
       "      <td>0.0</td>\n",
       "      <td>1.0</td>\n",
       "      <td>0.0</td>\n",
       "      <td>1.0</td>\n",
       "      <td>1.0</td>\n",
       "      <td>0.0</td>\n",
       "      <td>1.0</td>\n",
       "      <td>0.0</td>\n",
       "    </tr>\n",
       "    <tr>\n",
       "      <th>955</th>\n",
       "      <td>0.0</td>\n",
       "      <td>1.0</td>\n",
       "      <td>0.0</td>\n",
       "      <td>0.0</td>\n",
       "      <td>1.0</td>\n",
       "      <td>1.0</td>\n",
       "      <td>1.0</td>\n",
       "      <td>0.0</td>\n",
       "      <td>1.0</td>\n",
       "      <td>0.0</td>\n",
       "    </tr>\n",
       "    <tr>\n",
       "      <th>956</th>\n",
       "      <td>0.0</td>\n",
       "      <td>0.0</td>\n",
       "      <td>1.0</td>\n",
       "      <td>1.0</td>\n",
       "      <td>1.0</td>\n",
       "      <td>0.0</td>\n",
       "      <td>0.0</td>\n",
       "      <td>1.0</td>\n",
       "      <td>1.0</td>\n",
       "      <td>0.0</td>\n",
       "    </tr>\n",
       "  </tbody>\n",
       "</table>\n",
       "<p>957 rows × 10 columns</p>\n",
       "</div>"
      ],
      "text/plain": [
       "      xx  x.1x  x.2x  x.3x   ox  o.1x  x.4x  o.2x  o.3x  positive\n",
       "0    1.0   1.0   1.0   1.0  0.0   0.0   0.0   1.0   0.0       1.0\n",
       "1    1.0   1.0   1.0   1.0  0.0   0.0   0.0   0.0   1.0       1.0\n",
       "2    1.0   1.0   1.0   1.0  0.0   0.0   0.0   0.0   0.0       1.0\n",
       "3    1.0   1.0   1.0   1.0  0.0   0.0   0.0   0.0   0.0       1.0\n",
       "4    1.0   1.0   1.0   1.0  0.0   0.0   0.0   0.0   0.0       1.0\n",
       "..   ...   ...   ...   ...  ...   ...   ...   ...   ...       ...\n",
       "952  0.0   1.0   1.0   1.0  0.0   0.0   0.0   1.0   1.0       0.0\n",
       "953  0.0   1.0   0.0   1.0  1.0   0.0   1.0   0.0   1.0       0.0\n",
       "954  0.0   1.0   0.0   1.0  0.0   1.0   1.0   0.0   1.0       0.0\n",
       "955  0.0   1.0   0.0   0.0  1.0   1.0   1.0   0.0   1.0       0.0\n",
       "956  0.0   0.0   1.0   1.0  1.0   0.0   0.0   1.0   1.0       0.0\n",
       "\n",
       "[957 rows x 10 columns]"
      ]
     },
     "execution_count": 6,
     "metadata": {},
     "output_type": "execute_result"
    }
   ],
   "source": [
    "beta"
   ]
  },
  {
   "cell_type": "code",
   "execution_count": 7,
   "metadata": {},
   "outputs": [
    {
     "data": {
      "text/plain": [
       "0      1.0\n",
       "1      1.0\n",
       "2      1.0\n",
       "3      1.0\n",
       "4      1.0\n",
       "      ... \n",
       "952    0.0\n",
       "953    0.0\n",
       "954    0.0\n",
       "955    0.0\n",
       "956    0.0\n",
       "Name: positive, Length: 957, dtype: float64"
      ]
     },
     "execution_count": 7,
     "metadata": {},
     "output_type": "execute_result"
    }
   ],
   "source": [
    "win=beta[\"positive\"]\n",
    "win"
   ]
  },
  {
   "cell_type": "code",
   "execution_count": 8,
   "metadata": {},
   "outputs": [],
   "source": [
    "beta=beta.drop([\"positive\"], axis=1)"
   ]
  },
  {
   "cell_type": "code",
   "execution_count": 9,
   "metadata": {},
   "outputs": [],
   "source": [
    "from sklearn.model_selection import train_test_split\n",
    "test_size=0.1\n",
    "X_train, X_test, y_train, y_test = train_test_split(beta, win, test_size=test_size)\n",
    "X_train_pos=X_train.loc[y_train==1]\n",
    "X_train_neg=X_train.loc[y_train==0]\n",
    "\n",
    "y_train_pos=y_train.loc[y_train==1]\n",
    "y_train_neg=y_train.loc[y_train==0]\n",
    "\n",
    "X_test_pos=X_test.loc[y_test==1]\n",
    "X_test_neg=X_test.loc[y_test==0]\n",
    "\n",
    "y_test_pos=y_test.loc[y_test==1]\n",
    "y_test_neg=y_test.loc[y_test==0]"
   ]
  },
  {
   "cell_type": "code",
   "execution_count": 10,
   "metadata": {},
   "outputs": [],
   "source": [
    "def inter_bin(x, y):\n",
    "    return x*y"
   ]
  },
  {
   "cell_type": "code",
   "execution_count": 11,
   "metadata": {},
   "outputs": [],
   "source": [
    "def inter_cat(x,y):\n",
    "    return [x, y]"
   ]
  },
  {
   "cell_type": "code",
   "execution_count": 12,
   "metadata": {},
   "outputs": [],
   "source": [
    "def inter_num(x, y):\n",
    "    return [np.min([x[0], y[0]]), np.max([x[1], y[1]])]"
   ]
  },
  {
   "cell_type": "code",
   "execution_count": 13,
   "metadata": {},
   "outputs": [],
   "source": [
    "def inter(x,y, meta):\n",
    "    res=[]\n",
    "    for i in range(len(x)):\n",
    "        if meta[i]==\"bin\":\n",
    "            res.append(inter_bin(x[i], y[i]))\n",
    "        elif meta[i]==\"cat\":\n",
    "            res.append(inter_cat(x[i], y[i]))\n",
    "        elif meta[i]==\"num\":\n",
    "            res.append(inter_num(x[i], y[i]))\n",
    "        else:\n",
    "            raise Exception(str(\"Unknown metadata passed: \"+meta[i]+\" please use one of the following: bin, num, cat\"))\n",
    "    return np.array(res, dtype=object)"
   ]
  },
  {
   "cell_type": "code",
   "execution_count": 14,
   "metadata": {},
   "outputs": [],
   "source": [
    "def isin(x, y, meta):\n",
    "#     z=inter(x, y, meta)\n",
    "#     print(z)\n",
    "    res=True\n",
    "    for i in range(len(x)):\n",
    "        if meta[i]==\"bin\":\n",
    "            res*=(y[i]>=x[i])\n",
    "        elif meta[i]==\"cat\":\n",
    "            res*=(y[i] in x[i])\n",
    "        elif meta[i]==\"num\":\n",
    "            res*=(x[i][0]<=y[i]<=x[i][1])\n",
    "        else:\n",
    "            raise Exception(str(\"Unknown metadata passed: \"+meta[i]+\" please use one of the following: bin, num, cat\"))\n",
    "        if not res: return res\n",
    "    return res"
   ]
  },
  {
   "cell_type": "code",
   "execution_count": 15,
   "metadata": {},
   "outputs": [],
   "source": [
    "def support(x, cl, meta):\n",
    "    return np.mean([isin(x, i, meta) for i in cl])"
   ]
  },
  {
   "cell_type": "code",
   "execution_count": 16,
   "metadata": {},
   "outputs": [],
   "source": [
    "def conf(x, y, a, b):\n",
    "#     print(x, y)\n",
    "    return np.mean([x[i]==y[i] for i in range(len(y))])"
   ]
  },
  {
   "cell_type": "code",
   "execution_count": 30,
   "metadata": {},
   "outputs": [
    {
     "data": {
      "text/plain": [
       "['bin', 'bin', 'bin', 'bin', 'bin', 'bin', 'bin', 'bin', 'bin', 'bin']"
      ]
     },
     "execution_count": 30,
     "metadata": {},
     "output_type": "execute_result"
    }
   ],
   "source": [
    "met=['bin' for i in range(data.shape[1])]\n",
    "met"
   ]
  },
  {
   "cell_type": "code",
   "execution_count": 31,
   "metadata": {},
   "outputs": [],
   "source": [
    "def classify(x, X_pos, X_neg, min_conf, minsup, aconf, meta, numdif=0, maxcont=0):\n",
    "    cont_pos=0\n",
    "    sup_pos=0\n",
    "#     npos=0\n",
    "#     minsuppos=np.inf\n",
    "#     maxsuppos=0\n",
    "#     mincontpos=np.inf\n",
    "#     maxcontpos=0\n",
    "    \n",
    "    for i in X_pos:\n",
    "        z=inter(i, x, meta)\n",
    "        c=conf(i, x, meta, numdif)\n",
    "#         print(c)\n",
    "        if c>=min_conf:\n",
    "#             print(\"c\")\n",
    "            return 1\n",
    "           \n",
    "        if c>=aconf:\n",
    "#             print(c)\n",
    "            sup=support(z, X_pos, meta)\n",
    "            if sup>=minsup:\n",
    "                return 1\n",
    "            cont=support(z, X_neg, meta)\n",
    "#             if cont<=maxcont:\n",
    "#                 return 1\n",
    "            cont_pos+=cont\n",
    "            sup_pos+=sup\n",
    "#             npos+=1\n",
    "#             minsuppos=min(minsuppos, sup)\n",
    "#             maxsuppos=max(maxsuppos, sup)\n",
    "#             mincontpos=min(mincontpos, cont)\n",
    "#             maxcontpos=max(maxcontpos, cont)\n",
    "    #     print(\"+\")\n",
    "    \n",
    "    cont_neg=0\n",
    "    sup_neg=0\n",
    "#     nneg=0\n",
    "#     minsupneg=np.inf\n",
    "#     maxsupneg=0\n",
    "#     mincontneg=np.inf\n",
    "#     maxcontneg=0\n",
    "    \n",
    "    for i in X_neg:\n",
    "        z=inter(i, x, meta)\n",
    "        c=conf(i, x, meta, numdif)\n",
    "        if c>=min_conf:\n",
    "            return 0\n",
    "        \n",
    "        if c>=aconf:\n",
    "#             print(c)\n",
    "            sup=support(z, X_neg, meta)\n",
    "            if sup>=minsup:\n",
    "                return 0\n",
    "            cont=support(z, X_pos, meta)\n",
    "#             if cont<=maxcont:\n",
    "#                 return 0\n",
    "            cont_neg+=cont\n",
    "            sup_neg+=sup\n",
    "#             nneg+=1\n",
    "#             minsupneg=min(minsupneg, sup)\n",
    "#             maxsupneg=max(maxsupneg, sup)\n",
    "#             mincontneg=min(mincontneg, cont)\n",
    "#             maxcontneg=max(maxcontneg, cont)      \n",
    "#     print(\"-\")\n",
    "    \n",
    "    \n",
    "#     cont_pos/=npos\n",
    "#     sup_pos/=npos\n",
    "#     cont_neg/=nneg\n",
    "#     sup_neg/=nneg\n",
    "#     print(cont_pos,sup_pos, cont_neg,sup_neg)\n",
    "#     print(minsupneg,\n",
    "#             maxsupneg,\n",
    "#             mincontneg,\n",
    "#             maxcontneg,\"\\n\" ,minsuppos,\n",
    "#             maxsuppos,\n",
    "#             mincontpos,\n",
    "#             maxcontpos)\n",
    "#     print(cont_pos,sup_pos, cont_neg,sup_neg)\n",
    "    if sup_pos!=0 and sup_neg!=0:\n",
    "        return int(cont_pos/sup_pos<cont_neg/sup_neg)\n",
    "    elif sup_pos==0 or sup_neg==0 and not sup_pos==sup_neg:\n",
    "        return int(sup_pos/X_pos.shape[0]>sup_neg/X_neg.shape[0])\n",
    "    else: return int(cont_pos/X_pos.shape[0]<cont_neg/X_neg.shape[0])\n",
    "#     return int(maxcontpos<maxcontneg)\n",
    "#     return int(maxsuppos>maxsupneg)"
   ]
  },
  {
   "cell_type": "code",
   "execution_count": 41,
   "metadata": {},
   "outputs": [
    {
     "name": "stdout",
     "output_type": "stream",
     "text": [
      "Wall time: 213 ms\n"
     ]
    },
    {
     "data": {
      "text/plain": [
       "1"
      ]
     },
     "execution_count": 41,
     "metadata": {},
     "output_type": "execute_result"
    }
   ],
   "source": [
    "%time classify(X_test_pos.loc[X_test_pos.index[1]].values, X_train_pos.values, X_train_neg.values, 0.9, 0.9, 0.7, met)"
   ]
  },
  {
   "cell_type": "code",
   "execution_count": 42,
   "metadata": {},
   "outputs": [
    {
     "name": "stdout",
     "output_type": "stream",
     "text": [
      "Wall time: 870 ms\n"
     ]
    },
    {
     "data": {
      "text/plain": [
       "0"
      ]
     },
     "execution_count": 42,
     "metadata": {},
     "output_type": "execute_result"
    }
   ],
   "source": [
    "%time classify(X_test_neg.loc[X_test_neg.index[1]].values, X_train_pos.values, X_train_neg.values, 0.9, 0.9, 0.7, met)"
   ]
  },
  {
   "cell_type": "code",
   "execution_count": 43,
   "metadata": {},
   "outputs": [
    {
     "name": "stdout",
     "output_type": "stream",
     "text": [
      "Wall time: 32.9 s\n"
     ]
    }
   ],
   "source": [
    "%time y=np.array([classify(X_test_pos.loc[i].values, X_train_pos.values, X_train_neg.values, 0.9, 0.9, 0.7, met) for i in X_test_pos.index])"
   ]
  },
  {
   "cell_type": "code",
   "execution_count": 44,
   "metadata": {},
   "outputs": [
    {
     "name": "stdout",
     "output_type": "stream",
     "text": [
      "Wall time: 36.1 s\n"
     ]
    }
   ],
   "source": [
    "%time yn=np.array([classify(X_test_neg.loc[i].values, X_train_pos.values, X_train_neg.values, 0.9, 0.9, 0.7, met) for i in X_test_neg.index])"
   ]
  },
  {
   "cell_type": "code",
   "execution_count": 45,
   "metadata": {},
   "outputs": [],
   "source": [
    "def metrics(y, yn, y_true, yn_true):\n",
    "    m=dict()\n",
    "    FN=sum(y^y_true)\n",
    "    FP=sum(yn^yn_true)\n",
    "    TP=len(y_true)-FN\n",
    "    TN=len(yn_true)-FP\n",
    "    m[\"FN\"]=FN\n",
    "    m[\"FP\"]=FP\n",
    "    m[\"TP\"]=TP\n",
    "    m[\"TN\"]=TN\n",
    "    m[\"A\"]=(TP+TN)/(FP+FN+TP+TN)\n",
    "    m[\"TPR\"]=TP/(TP+FN)\n",
    "    m[\"TNR\"]=TN/(TN+FP)\n",
    "    m[\"NPV\"]=TN/(TN+FN)\n",
    "    m[\"PPV\"]=TP/(TP+FP)\n",
    "    m[\"FPR\"]=FP/(FP+TN)\n",
    "    m[\"FDR\"]=FP/(FP+TP)\n",
    "    m[\"P\"]=1/2*(TP/(TP+FP)+TN/(TN+FN))\n",
    "    m[\"R\"]=1/2*(TP/(TP+FN)+TN/(TN+FP))\n",
    "    return m"
   ]
  },
  {
   "cell_type": "markdown",
   "metadata": {},
   "source": [
    "True Positive\n",
    "True Negative\n",
    "False Positive\n",
    "False Negative\n",
    "True Positive Rate\n",
    "True Negative Rate\n",
    "Negative Predictive Value\n",
    "False Positive Rate\n",
    "False Discovery Rate\n",
    "Accuracy\n",
    "Precision\n",
    "Recall"
   ]
  },
  {
   "cell_type": "code",
   "execution_count": 46,
   "metadata": {},
   "outputs": [
    {
     "data": {
      "text/plain": [
       "{'FN': 0,\n",
       " 'FP': 3,\n",
       " 'TP': 63,\n",
       " 'TN': 31,\n",
       " 'A': 0.9690721649484536,\n",
       " 'TPR': 1.0,\n",
       " 'TNR': 0.9117647058823529,\n",
       " 'NPV': 1.0,\n",
       " 'PPV': 0.9545454545454546,\n",
       " 'FPR': 0.08823529411764706,\n",
       " 'FDR': 0.045454545454545456,\n",
       " 'P': 0.9772727272727273,\n",
       " 'R': 0.9558823529411764}"
      ]
     },
     "execution_count": 46,
     "metadata": {},
     "output_type": "execute_result"
    }
   ],
   "source": [
    "metrics(y, yn, np.array(y_test_pos, dtype=int), np.array(y_test_neg,  dtype=int))"
   ]
  },
  {
   "cell_type": "code",
   "execution_count": 47,
   "metadata": {},
   "outputs": [],
   "source": [
    "from sklearn.model_selection import KFold\n",
    "kf = KFold(n_splits=10, shuffle=True)"
   ]
  },
  {
   "cell_type": "code",
   "execution_count": 48,
   "metadata": {},
   "outputs": [
    {
     "name": "stdout",
     "output_type": "stream",
     "text": [
      "0\n",
      "1\n",
      "2\n",
      "3\n",
      "4\n",
      "5\n",
      "6\n",
      "7\n",
      "8\n",
      "9\n"
     ]
    },
    {
     "data": {
      "text/plain": [
       "array([0.00000000e+00, 3.30000000e+00, 6.25000000e+01, 2.99000000e+01,\n",
       "       9.65546437e-01, 1.00000000e+00, 9.00713012e-01, 1.00000000e+00,\n",
       "       9.50599757e-01, 9.92869875e-02, 4.94002427e-02, 9.75299879e-01,\n",
       "       9.50356506e-01])"
      ]
     },
     "execution_count": 48,
     "metadata": {},
     "output_type": "execute_result"
    }
   ],
   "source": [
    "X_pos=beta.loc[win==1]\n",
    "X_neg=beta.loc[win==0]\n",
    "X_pos.index=[i for i in range(X_pos.shape[0])]\n",
    "X_neg.index=[i for i in range(X_neg.shape[0])]\n",
    "y_pos=win.loc[win==1]\n",
    "y_neg=win.loc[win==0]\n",
    "y_pos.index=[i for i in range(X_pos.shape[0])]\n",
    "y_neg.index=[i for i in range(y_neg.shape[0])]\n",
    "l=[i for i in kf.split(X_pos)]\n",
    "k=[i for i in kf.split(X_neg)]\n",
    "a=np.zeros(13)\n",
    "for i in range(10):\n",
    "\n",
    "        print(i)\n",
    "        X_train_pos=X_pos.loc[l[i][0]]\n",
    "        X_train_neg=X_neg.loc[k[i][0]]\n",
    "\n",
    "        y_train_pos=y_pos.loc[l[i][0]]\n",
    "        y_train_neg=y_neg.loc[k[i][0]]\n",
    "\n",
    "        X_test_pos=X_pos.loc[l[i][1]]\n",
    "        X_test_neg=X_neg.loc[k[i][1]]\n",
    "\n",
    "        y_test_pos=y_pos.loc[l[i][1]]\n",
    "        y_test_neg=y_neg.loc[k[i][1]]\n",
    "\n",
    "        y=np.array([classify(X_test_pos.loc[i].values, X_train_pos.values, X_train_neg.values, 0.9, 0.9, 0.7, met) for i in X_test_pos.index])\n",
    "        yn=np.array([classify(X_test_neg.loc[i].values, X_train_pos.values, X_train_neg.values, 0.9, 0.9, 0.7, met) for i in X_test_neg.index])\n",
    "        a+=list(metrics(y, yn, np.array(y_test_pos, dtype=int), np.array(y_test_neg,  dtype=int)).values())\n",
    "a/10"
   ]
  },
  {
   "cell_type": "code",
   "execution_count": 49,
   "metadata": {},
   "outputs": [],
   "source": [
    "param_grid={\n",
    "    \"minconf\":[0.8,0.9],\n",
    "    \"minsup\":[0.8,0.9],\n",
    "    \"aconf\":[0.5,0.7]\n",
    "}"
   ]
  },
  {
   "cell_type": "code",
   "execution_count": 51,
   "metadata": {},
   "outputs": [
    {
     "data": {
      "text/plain": [
       "[(0.8, 0.8, 0.5),\n",
       " (0.8, 0.8, 0.7),\n",
       " (0.8, 0.9, 0.5),\n",
       " (0.8, 0.9, 0.7),\n",
       " (0.9, 0.8, 0.5),\n",
       " (0.9, 0.8, 0.7),\n",
       " (0.9, 0.9, 0.5),\n",
       " (0.9, 0.9, 0.7)]"
      ]
     },
     "execution_count": 51,
     "metadata": {},
     "output_type": "execute_result"
    }
   ],
   "source": [
    "pg=[(i, j, k) for i in param_grid[\"minconf\"] for j in param_grid[\"minsup\"]  for k in param_grid[\"aconf\"]]\n",
    "pg"
   ]
  },
  {
   "cell_type": "code",
   "execution_count": 52,
   "metadata": {},
   "outputs": [
    {
     "data": {
      "text/html": [
       "<div>\n",
       "<style scoped>\n",
       "    .dataframe tbody tr th:only-of-type {\n",
       "        vertical-align: middle;\n",
       "    }\n",
       "\n",
       "    .dataframe tbody tr th {\n",
       "        vertical-align: top;\n",
       "    }\n",
       "\n",
       "    .dataframe thead th {\n",
       "        text-align: right;\n",
       "    }\n",
       "</style>\n",
       "<table border=\"1\" class=\"dataframe\">\n",
       "  <thead>\n",
       "    <tr style=\"text-align: right;\">\n",
       "      <th></th>\n",
       "      <th>minconf</th>\n",
       "      <th>minsup</th>\n",
       "      <th>aconf</th>\n",
       "      <th>FN</th>\n",
       "      <th>FP</th>\n",
       "      <th>TP</th>\n",
       "      <th>TN</th>\n",
       "      <th>A</th>\n",
       "      <th>TPR</th>\n",
       "      <th>TNR</th>\n",
       "      <th>NPV</th>\n",
       "      <th>PPV</th>\n",
       "      <th>FPR</th>\n",
       "      <th>FDR</th>\n",
       "      <th>P</th>\n",
       "      <th>R</th>\n",
       "    </tr>\n",
       "  </thead>\n",
       "  <tbody>\n",
       "  </tbody>\n",
       "</table>\n",
       "</div>"
      ],
      "text/plain": [
       "Empty DataFrame\n",
       "Columns: [minconf, minsup, aconf, FN, FP, TP, TN, A, TPR, TNR, NPV, PPV, FPR, FDR, P, R]\n",
       "Index: []"
      ]
     },
     "execution_count": 52,
     "metadata": {},
     "output_type": "execute_result"
    }
   ],
   "source": [
    "res=pd.DataFrame(columns=[\"minconf\", \"minsup\", \"aconf\", \"FN\", \"FP\",\"TP\",\"TN\",\"A\",\"TPR\",\"TNR\",\"NPV\",\"PPV\",\"FPR\",\"FDR\",\"P\",\"R\"])\n",
    "res"
   ]
  },
  {
   "cell_type": "code",
   "execution_count": 53,
   "metadata": {},
   "outputs": [],
   "source": [
    "X_pos=beta.loc[win==1]\n",
    "X_neg=beta.loc[win==0]\n",
    "X_pos.index=[i for i in range(X_pos.shape[0])]\n",
    "X_neg.index=[i for i in range(X_neg.shape[0])]\n",
    "y_pos=win.loc[win==1]\n",
    "y_neg=win.loc[win==0]\n",
    "y_pos.index=[i for i in range(X_pos.shape[0])]\n",
    "y_neg.index=[i for i in range(y_neg.shape[0])]\n",
    "l=[i for i in kf.split(X_pos)]\n",
    "k=[i for i in kf.split(X_neg)]"
   ]
  },
  {
   "cell_type": "code",
   "execution_count": null,
   "metadata": {},
   "outputs": [
    {
     "name": "stdout",
     "output_type": "stream",
     "text": [
      "(0.8, 0.8, 0.5)\n",
      "(0.8, 0.8, 0.7)\n",
      "(0.8, 0.9, 0.5)\n",
      "(0.8, 0.9, 0.7)\n"
     ]
    }
   ],
   "source": [
    "d=0\n",
    "for j in pg:\n",
    "    a=np.zeros(13)\n",
    "    for i in range(10):\n",
    "\n",
    "        X_train_pos=X_pos.loc[l[i][0]]\n",
    "        X_train_neg=X_neg.loc[k[i][0]]\n",
    "\n",
    "        y_train_pos=y_pos.loc[l[i][0]]\n",
    "        y_train_neg=y_neg.loc[k[i][0]]\n",
    "\n",
    "        X_test_pos=X_pos.loc[l[i][1]]\n",
    "        X_test_neg=X_neg.loc[k[i][1]]\n",
    "\n",
    "        y_test_pos=y_pos.loc[l[i][1]]\n",
    "        y_test_neg=y_neg.loc[k[i][1]]\n",
    "\n",
    "        y=np.array([classify(X_test_pos.loc[i].values, X_train_pos.values, X_train_neg.values, j[0], j[1], j[2], met) for i in X_test_pos.index])\n",
    "        yn=np.array([classify(X_test_neg.loc[i].values, X_train_pos.values, X_train_neg.values, j[0], j[1], j[2], met) for i in X_test_neg.index])\n",
    "        a+=list(metrics(y, yn, np.array(y_test_pos, dtype=int), np.array(y_test_neg,  dtype=int)).values())\n",
    "    print(j)\n",
    "    a/=10\n",
    "    res.loc[d]=list(j)+list(a)\n",
    "    d+=1"
   ]
  },
  {
   "cell_type": "code",
   "execution_count": null,
   "metadata": {},
   "outputs": [],
   "source": [
    "res.to_csv(\"ttt_bin.csv\")"
   ]
  },
  {
   "cell_type": "code",
   "execution_count": null,
   "metadata": {},
   "outputs": [],
   "source": [
    "res"
   ]
  },
  {
   "cell_type": "code",
   "execution_count": null,
   "metadata": {},
   "outputs": [],
   "source": []
  }
 ],
 "metadata": {
  "kernelspec": {
   "display_name": "Python 3",
   "language": "python",
   "name": "python3"
  },
  "language_info": {
   "codemirror_mode": {
    "name": "ipython",
    "version": 3
   },
   "file_extension": ".py",
   "mimetype": "text/x-python",
   "name": "python",
   "nbconvert_exporter": "python",
   "pygments_lexer": "ipython3",
   "version": "3.7.4"
  }
 },
 "nbformat": 4,
 "nbformat_minor": 4
}
